{
 "cells": [
  {
   "cell_type": "code",
   "execution_count": 16,
   "metadata": {},
   "outputs": [],
   "source": [
    "import pandas as pd\n",
    "from pathlib import Path"
   ]
  },
  {
   "cell_type": "code",
   "execution_count": 17,
   "metadata": {},
   "outputs": [],
   "source": [
    "# To Read The csv File\n",
    "budget_file =  \"Resources/budget_data.csv\"\n",
    "budget_file_df =pd.read_csv(budget_file)"
   ]
  },
  {
   "cell_type": "code",
   "execution_count": 29,
   "metadata": {},
   "outputs": [
    {
     "data": {
      "text/html": [
       "<div>\n",
       "<style scoped>\n",
       "    .dataframe tbody tr th:only-of-type {\n",
       "        vertical-align: middle;\n",
       "    }\n",
       "\n",
       "    .dataframe tbody tr th {\n",
       "        vertical-align: top;\n",
       "    }\n",
       "\n",
       "    .dataframe thead th {\n",
       "        text-align: right;\n",
       "    }\n",
       "</style>\n",
       "<table border=\"1\" class=\"dataframe\">\n",
       "  <thead>\n",
       "    <tr style=\"text-align: right;\">\n",
       "      <th></th>\n",
       "      <th>Profit/Losses</th>\n",
       "    </tr>\n",
       "  </thead>\n",
       "  <tbody>\n",
       "    <tr>\n",
       "      <th>count</th>\n",
       "      <td>8.600000e+01</td>\n",
       "    </tr>\n",
       "    <tr>\n",
       "      <th>mean</th>\n",
       "      <td>2.623744e+05</td>\n",
       "    </tr>\n",
       "    <tr>\n",
       "      <th>std</th>\n",
       "      <td>6.244057e+05</td>\n",
       "    </tr>\n",
       "    <tr>\n",
       "      <th>min</th>\n",
       "      <td>-1.194133e+06</td>\n",
       "    </tr>\n",
       "    <tr>\n",
       "      <th>25%</th>\n",
       "      <td>-1.944645e+05</td>\n",
       "    </tr>\n",
       "    <tr>\n",
       "      <th>50%</th>\n",
       "      <td>4.528330e+05</td>\n",
       "    </tr>\n",
       "    <tr>\n",
       "      <th>75%</th>\n",
       "      <td>7.494155e+05</td>\n",
       "    </tr>\n",
       "    <tr>\n",
       "      <th>max</th>\n",
       "      <td>1.141840e+06</td>\n",
       "    </tr>\n",
       "  </tbody>\n",
       "</table>\n",
       "</div>"
      ],
      "text/plain": [
       "       Profit/Losses\n",
       "count   8.600000e+01\n",
       "mean    2.623744e+05\n",
       "std     6.244057e+05\n",
       "min    -1.194133e+06\n",
       "25%    -1.944645e+05\n",
       "50%     4.528330e+05\n",
       "75%     7.494155e+05\n",
       "max     1.141840e+06"
      ]
     },
     "execution_count": 29,
     "metadata": {},
     "output_type": "execute_result"
    }
   ],
   "source": [
    "# Statistical Analysis of Data Set\n",
    "budget_file_df.describe()\n"
   ]
  },
  {
   "cell_type": "code",
   "execution_count": 30,
   "metadata": {},
   "outputs": [
    {
     "data": {
      "text/plain": [
       "Index(['Date', 'Profit/Losses'], dtype='object')"
      ]
     },
     "execution_count": 30,
     "metadata": {},
     "output_type": "execute_result"
    }
   ],
   "source": [
    "# Columns In Data Set\n",
    "budget_file_df.columns"
   ]
  },
  {
   "cell_type": "code",
   "execution_count": 33,
   "metadata": {},
   "outputs": [
    {
     "name": "stdout",
     "output_type": "stream",
     "text": [
      ".................\n",
      "Financial Analysis\n",
      "Total Months: 86\n",
      "Total Profits: $22564198\n",
      "Average Change: $4500.46\n",
      "Greatest Increase in Profits: Aug-16 ($1862002)\n",
      "Greatest Decrease in Profits: Feb-14 ($-1825558)\n"
     ]
    }
   ],
   "source": [
    "# Total Number Of Months Included In The Data Set\n",
    "total_months = budget_file_df[\"Date\"].count()\n",
    "# Net Total Amount of Profit/Losses\n",
    "net_total = budget_file_df[\"Profit/Losses\"].sum()\n",
    "# Calculate Monthly Changes in Profits\n",
    "# Create List To Store Data\n",
    "profit = []\n",
    "monthly_changes = []\n",
    "date = []\n",
    "# Initialize THe Variable as Required\n",
    "count = 0\n",
    "total_profit = 0\n",
    "total_change_profits = 0\n",
    "initial_profit = 0\n",
    "# Iterate through each row in the Dataframe\n",
    "for index, row in budget_file_df.iterrows():\n",
    "    # Count will count the number of months in the data set\n",
    "    count += 1\n",
    "    # Needed when collecting the greatest increase and decrease in profits\n",
    "    date.append(row[\"Date\"])\n",
    "    profit.append(row[\"Profit/Losses\"])\n",
    "    total_profit += int(row[\"Profit/Losses\"])\n",
    "\n",
    "    #Calculate the average change in profits from month to month\n",
    "    final_profit = int(row[\"Profit/Losses\"])\n",
    "    monthly_change_profits = final_profit - initial_profit\n",
    "\n",
    "    # Store monthly changes in a list\n",
    "    monthly_changes.append(monthly_change_profits)\n",
    "    total_change_profits += monthly_change_profits\n",
    "\n",
    "    initial_profit = final_profit\n",
    "\n",
    " # Calculate the average change in profits\n",
    "average_change_profits = total_change_profits / (count - 1)\n",
    "\n",
    "# Find the max and min change in profit \n",
    "greatest_increase_profits = max(monthly_changes)\n",
    "greatest_decrease_profits = min(monthly_changes)\n",
    "increase_date = date[monthly_changes.index(greatest_increase_profits)]\n",
    "decrease_date = date[monthly_changes.index(greatest_decrease_profits)]\n",
    "\n",
    "print(\".................\")\n",
    "print(\"Financial Analysis\")\n",
    "print(f\"Total Months: {str(count)}\")\n",
    "print(f\"Ttal Profits: ${str(total_profit)}\")\n",
    "print(f\"Average Change: ${str(round(average_change_profits, 2))}\")\n",
    "print(f\"Greatest Increase in Profits: {increase_date} (${str(greatest_increase_profits)})\")\n",
    "print(f\"Greatest Decrease in Profits: {decrease_date} (${str(greatest_decrease_profits)})\")\n",
    "\n",
    "\n"
   ]
  },
  {
   "cell_type": "code",
   "execution_count": 44,
   "metadata": {},
   "outputs": [],
   "source": [
    "   # EXport Results to a Text file\n",
    "with open(\"Analysis.txt1\", \"w\") as f:\n",
    "    f.write(\".................\\n\")\n",
    "    f.write(\"Financial Analysis\\n\")\n",
    "    f.write(\"Total Months: {str(count)}\\n\")\n",
    "    f.write(\"Ttal Profits: ${str(total_profit)}\\n\")\n",
    "    f.write(\"Average Change: ${str(round(average_change_profits, 2))}\\n\")\n",
    "    f.write(\"Greatest Increase in Profits: {increase_date} (${str(greatest_increase_profits)})\\n\")\n",
    "    f.write(\"Greatest Decrease in Profits: {decrease_date} (${str(greatest_decrease_profits)})\\n\")\n",
    "    \n",
    "    "
   ]
  }
 ],
 "metadata": {
  "kernelspec": {
   "display_name": "dev",
   "language": "python",
   "name": "python3"
  },
  "language_info": {
   "codemirror_mode": {
    "name": "ipython",
    "version": 3
   },
   "file_extension": ".py",
   "mimetype": "text/x-python",
   "name": "python",
   "nbconvert_exporter": "python",
   "pygments_lexer": "ipython3",
   "version": "3.10.11"
  },
  "orig_nbformat": 4
 },
 "nbformat": 4,
 "nbformat_minor": 2
}
