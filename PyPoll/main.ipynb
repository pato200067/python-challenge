{
 "cells": [
  {
   "cell_type": "code",
   "execution_count": 1,
   "metadata": {},
   "outputs": [],
   "source": [
    "import pandas as pd\n",
    "from pathlib import Path"
   ]
  },
  {
   "cell_type": "code",
   "execution_count": 4,
   "metadata": {},
   "outputs": [
    {
     "data": {
      "text/html": [
       "<div>\n",
       "<style scoped>\n",
       "    .dataframe tbody tr th:only-of-type {\n",
       "        vertical-align: middle;\n",
       "    }\n",
       "\n",
       "    .dataframe tbody tr th {\n",
       "        vertical-align: top;\n",
       "    }\n",
       "\n",
       "    .dataframe thead th {\n",
       "        text-align: right;\n",
       "    }\n",
       "</style>\n",
       "<table border=\"1\" class=\"dataframe\">\n",
       "  <thead>\n",
       "    <tr style=\"text-align: right;\">\n",
       "      <th></th>\n",
       "      <th>Ballot ID</th>\n",
       "    </tr>\n",
       "  </thead>\n",
       "  <tbody>\n",
       "    <tr>\n",
       "      <th>count</th>\n",
       "      <td>3.697110e+05</td>\n",
       "    </tr>\n",
       "    <tr>\n",
       "      <th>mean</th>\n",
       "      <td>5.142580e+06</td>\n",
       "    </tr>\n",
       "    <tr>\n",
       "      <th>std</th>\n",
       "      <td>2.068836e+06</td>\n",
       "    </tr>\n",
       "    <tr>\n",
       "      <th>min</th>\n",
       "      <td>1.000023e+06</td>\n",
       "    </tr>\n",
       "    <tr>\n",
       "      <th>25%</th>\n",
       "      <td>2.937711e+06</td>\n",
       "    </tr>\n",
       "    <tr>\n",
       "      <th>50%</th>\n",
       "      <td>5.682045e+06</td>\n",
       "    </tr>\n",
       "    <tr>\n",
       "      <th>75%</th>\n",
       "      <td>6.838988e+06</td>\n",
       "    </tr>\n",
       "    <tr>\n",
       "      <th>max</th>\n",
       "      <td>7.999927e+06</td>\n",
       "    </tr>\n",
       "  </tbody>\n",
       "</table>\n",
       "</div>"
      ],
      "text/plain": [
       "          Ballot ID\n",
       "count  3.697110e+05\n",
       "mean   5.142580e+06\n",
       "std    2.068836e+06\n",
       "min    1.000023e+06\n",
       "25%    2.937711e+06\n",
       "50%    5.682045e+06\n",
       "75%    6.838988e+06\n",
       "max    7.999927e+06"
      ]
     },
     "execution_count": 4,
     "metadata": {},
     "output_type": "execute_result"
    }
   ],
   "source": [
    "# To read the csv File\n",
    "election_file = \"Resources/election_data.csv\"\n",
    "election_file_df = pd.read_csv(election_file)\n",
    "\n",
    "# Statistical Overview of data\n",
    "election_file_df.describe()"
   ]
  },
  {
   "cell_type": "code",
   "execution_count": 25,
   "metadata": {},
   "outputs": [
    {
     "data": {
      "text/html": [
       "<div>\n",
       "<style scoped>\n",
       "    .dataframe tbody tr th:only-of-type {\n",
       "        vertical-align: middle;\n",
       "    }\n",
       "\n",
       "    .dataframe tbody tr th {\n",
       "        vertical-align: top;\n",
       "    }\n",
       "\n",
       "    .dataframe thead th {\n",
       "        text-align: right;\n",
       "    }\n",
       "</style>\n",
       "<table border=\"1\" class=\"dataframe\">\n",
       "  <thead>\n",
       "    <tr style=\"text-align: right;\">\n",
       "      <th></th>\n",
       "      <th>Ballot ID</th>\n",
       "      <th>County</th>\n",
       "      <th>Candidate</th>\n",
       "    </tr>\n",
       "  </thead>\n",
       "  <tbody>\n",
       "    <tr>\n",
       "      <th>0</th>\n",
       "      <td>1323913</td>\n",
       "      <td>Jefferson</td>\n",
       "      <td>Charles Casper Stockham</td>\n",
       "    </tr>\n",
       "    <tr>\n",
       "      <th>1</th>\n",
       "      <td>1005842</td>\n",
       "      <td>Jefferson</td>\n",
       "      <td>Charles Casper Stockham</td>\n",
       "    </tr>\n",
       "    <tr>\n",
       "      <th>2</th>\n",
       "      <td>1880345</td>\n",
       "      <td>Jefferson</td>\n",
       "      <td>Charles Casper Stockham</td>\n",
       "    </tr>\n",
       "    <tr>\n",
       "      <th>3</th>\n",
       "      <td>1600337</td>\n",
       "      <td>Jefferson</td>\n",
       "      <td>Charles Casper Stockham</td>\n",
       "    </tr>\n",
       "    <tr>\n",
       "      <th>4</th>\n",
       "      <td>1835994</td>\n",
       "      <td>Jefferson</td>\n",
       "      <td>Charles Casper Stockham</td>\n",
       "    </tr>\n",
       "  </tbody>\n",
       "</table>\n",
       "</div>"
      ],
      "text/plain": [
       "   Ballot ID     County                Candidate\n",
       "0    1323913  Jefferson  Charles Casper Stockham\n",
       "1    1005842  Jefferson  Charles Casper Stockham\n",
       "2    1880345  Jefferson  Charles Casper Stockham\n",
       "3    1600337  Jefferson  Charles Casper Stockham\n",
       "4    1835994  Jefferson  Charles Casper Stockham"
      ]
     },
     "execution_count": 25,
     "metadata": {},
     "output_type": "execute_result"
    }
   ],
   "source": [
    "# first 5 rows\n",
    "election_file_df.head()"
   ]
  },
  {
   "cell_type": "code",
   "execution_count": 5,
   "metadata": {},
   "outputs": [
    {
     "data": {
      "text/plain": [
       "Index(['Ballot ID', 'County', 'Candidate'], dtype='object')"
      ]
     },
     "execution_count": 5,
     "metadata": {},
     "output_type": "execute_result"
    }
   ],
   "source": [
    "# Number of columns in data set\n",
    "election_file_df.columns"
   ]
  },
  {
   "cell_type": "code",
   "execution_count": 30,
   "metadata": {},
   "outputs": [
    {
     "name": "stdout",
     "output_type": "stream",
     "text": [
      "369711\n",
      "85213\n",
      "11606\n",
      "272892\n",
      "23.05\n",
      "3.14\n",
      "73.81\n",
      "Election Results \n",
      "\n",
      "...................\n",
      "\n",
      " Total Votes: 369711\n",
      "\n",
      "Charles: 23.05% (85213)\n",
      "\n",
      "Raymond: 3.14% (11606)\n",
      "\n",
      "Diana: 73.81% (272892)\n",
      "\n",
      "Winner: Diana\n",
      "\n"
     ]
    }
   ],
   "source": [
    "# Declaring Variables\n",
    "\n",
    "county = election_file_df[\"County\"]\n",
    "candidates = election_file_df[\"Candidate\"]\n",
    "Charles = []\n",
    "Raymond = []\n",
    "Diana = []\n",
    "\n",
    "# Looping through rows\n",
    "\n",
    "\n",
    "\n",
    " # Vote Count\n",
    "total_votes = (len(candidates))\n",
    "print(total_votes)\n",
    " \n",
    " # Votes by Person \n",
    "for candidate in candidates:\n",
    "   \n",
    "   if candidate == \"Charles Casper Stockham\":\n",
    "     Charles.append(candidates)\n",
    "     Charles_votes = len(Charles)\n",
    "   elif candidate == \"Raymon Anthony Doane\":\n",
    "     Raymond.append(candidates)\n",
    "     Raymond_votes = len(Raymond)\n",
    "   else:\n",
    "     Diana.append(candidates)\n",
    "     Diana_votes = len(Diana)\n",
    "print(Charles_votes)\n",
    "print(Raymond_votes)\n",
    "print(Diana_votes)\n",
    "\n",
    " # Percent Votes\n",
    "Charles_percent =round(((Charles_votes / total_votes) *100), 2)\n",
    "Raymond_percent =round(((Raymond_votes / total_votes) *100), 2)\n",
    "Diana_percent =round(((Diana_votes / total_votes) *100), 2)\n",
    "print(Charles_percent)\n",
    "print(Raymond_percent)\n",
    "print(Diana_percent)\n",
    "\n",
    " # Winner\n",
    "if Charles_percent > max(Raymond_percent, Diana_percent):\n",
    "     winner = \"Charles\"\n",
    "elif Raymond_percent > max(Charles_percent, Diana_percent):\n",
    "     winner = \"Raymond\"\n",
    "else:\n",
    "    winner = \"Diana\"\n",
    "\n",
    "    # Print Statement\n",
    "print(f\"Election Results \\n\") \n",
    "print(f\"...................\\n\") \n",
    "print(f' Total Votes: {total_votes}\\n') \n",
    "print(f\"Charles: {Charles_percent}% ({Charles_votes})\\n\") \n",
    "print(f\"Raymond: {Raymond_percent}% ({Raymond_votes})\\n\") \n",
    "print(f\"Diana: {Diana_percent}% ({Diana_votes})\\n\") \n",
    "print(f\"Winner: {winner}\\n\") \n",
    "\n"
   ]
  },
  {
   "cell_type": "code",
   "execution_count": null,
   "metadata": {},
   "outputs": [],
   "source": []
  }
 ],
 "metadata": {
  "kernelspec": {
   "display_name": "dev",
   "language": "python",
   "name": "python3"
  },
  "language_info": {
   "codemirror_mode": {
    "name": "ipython",
    "version": 3
   },
   "file_extension": ".py",
   "mimetype": "text/x-python",
   "name": "python",
   "nbconvert_exporter": "python",
   "pygments_lexer": "ipython3",
   "version": "3.10.11"
  },
  "orig_nbformat": 4
 },
 "nbformat": 4,
 "nbformat_minor": 2
}
